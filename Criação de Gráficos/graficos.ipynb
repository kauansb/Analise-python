{
 "cells": [
  {
   "cell_type": "markdown",
   "metadata": {},
   "source": [
    "## Integração Python-Power BI e plotagem de gráficos"
   ]
  },
  {
   "cell_type": "markdown",
   "metadata": {},
   "source": [
    "### Base de dados: world population"
   ]
  },
  {
   "cell_type": "markdown",
   "metadata": {},
   "source": [
    "### Observação!\n",
    "\n",
    "ao enviar o código para o power bi, trocar variável \"df\" para \"dataset\"."
   ]
  },
  {
   "cell_type": "code",
   "execution_count": null,
   "metadata": {},
   "outputs": [],
   "source": [
    "import pandas as pd\n",
    "import seaborn as sn\n",
    "import matplotlib.pyplot as plt\n",
    "import plotly.express as px\n",
    "\n",
    "df = pd.read_csv(\"world_population_data.csv\")\n",
    "df.info()\n",
    "df.head()"
   ]
  },
  {
   "cell_type": "markdown",
   "metadata": {},
   "source": [
    "### 1. Gráfico de Barras de População por País (2023)"
   ]
  },
  {
   "cell_type": "code",
   "execution_count": null,
   "metadata": {},
   "outputs": [],
   "source": [
    "import pandas as pd\n",
    "import seaborn as sn\n",
    "import matplotlib.pyplot as plt\n",
    "\n",
    "sn.set(rc={'figure.figsize': (18, 24), 'axes.labelsize': 20, 'axes.titlesize': 30, 'xtick.labelsize': 20, 'ytick.labelsize': 20})\n",
    "\n",
    "# Seu código de gráfico aqui\n",
    "sn.barplot(x='2023 population', y='country', data=df.sort_values('2023 population', ascending=False).head(10))\n",
    "plt.title('Top 10 Países por População em 2023')\n",
    "plt.xlabel('População em 2023')\n",
    "plt.ylabel('País')\n",
    "\n",
    "# Exiba o gráfico\n",
    "plt.show()\n"
   ]
  },
  {
   "cell_type": "markdown",
   "metadata": {},
   "source": [
    "### 2. População por Continente em 2023"
   ]
  },
  {
   "cell_type": "code",
   "execution_count": null,
   "metadata": {},
   "outputs": [],
   "source": [
    "import matplotlib.pyplot as plt\n",
    "\n",
    "# Criar um gráfico de barras\n",
    "plt.figure(figsize=(12, 8))\n",
    "plt.bar(df['continent'], df['2023 population'], color='skyblue')\n",
    "plt.title('População por Continente em 2023')\n",
    "plt.xlabel('Continente')\n",
    "plt.ylabel('População em 2023')\n",
    "plt.xticks(rotation=45, ha='right')\n",
    "plt.show()\n",
    "\n"
   ]
  },
  {
   "cell_type": "markdown",
   "metadata": {},
   "source": [
    "### 3. Distribuição da População por Continente em 2023"
   ]
  },
  {
   "cell_type": "code",
   "execution_count": null,
   "metadata": {},
   "outputs": [],
   "source": [
    "import matplotlib.pyplot as plt\n",
    "import seaborn as sns\n",
    "\n",
    "# Tamanho dos rótulos\n",
    "plt.rc('font', size=16)\n",
    "\n",
    "continent_population = df.groupby('continent')['2023 population'].sum()\n",
    "plt.figure(figsize=(12, 11))\n",
    "\n",
    "# Paleta de cores 'Blues' apenas para os valores da lista\n",
    "colors = sns.color_palette('Blues', n_colors=len(continent_population))\n",
    "\n",
    "plt.pie(continent_population, labels=continent_population.index, autopct='%1.1f%%', startangle=140, colors=colors)\n",
    "plt.title('Distribuição da População por Continente em 2023', fontsize=20)\n",
    "plt.show()\n"
   ]
  },
  {
   "cell_type": "markdown",
   "metadata": {},
   "source": [
    "### 4. Top 10 Países por Densidade Populacional em 2023"
   ]
  },
  {
   "cell_type": "code",
   "execution_count": null,
   "metadata": {},
   "outputs": [],
   "source": [
    "import matplotlib.pyplot as plt\n",
    "\n",
    "# Criar um gráfico de barras horizontais para os 10 países com maior população\n",
    "top_countries = df.sort_values('density (km²)', ascending=False).head(10)\n",
    "plt.figure(figsize=(12, 8))\n",
    "plt.barh(top_countries['country'], top_countries['density (km²)'], color='skyblue')\n",
    "plt.title('Top 10 Países por Densidade Populacional em 2023')\n",
    "plt.xlabel('Densidade Populacional em 2023')\n",
    "plt.ylabel('País')\n",
    "plt.show()\n"
   ]
  },
  {
   "cell_type": "markdown",
   "metadata": {},
   "source": [
    "## Gráficos plotly.express"
   ]
  },
  {
   "cell_type": "markdown",
   "metadata": {},
   "source": [
    "### Mapa de Bolhas: População por País (2023)"
   ]
  },
  {
   "cell_type": "code",
   "execution_count": null,
   "metadata": {},
   "outputs": [],
   "source": [
    "fig = px.scatter_geo(df, \n",
    "                     locations=\"cca3\", \n",
    "                     size=\"2023 population\", \n",
    "                     hover_name=\"country\", \n",
    "                     title=\"Mapa de Bolhas: População por País (2023)\",\n",
    "                     projection=\"natural earth\",\n",
    "                     color=\"density (km²)\",  \n",
    "                     color_continuous_scale=\"YlOrRd\",  \n",
    "                     range_color=[0, 800],  \n",
    "                     opacity=0.5,\n",
    "                     size_max=30, \n",
    "                     template=\"plotly_dark\") \n",
    "fig.show()\n"
   ]
  },
  {
   "cell_type": "markdown",
   "metadata": {},
   "source": [
    "### Comparação de População e Área por País (2023)"
   ]
  },
  {
   "cell_type": "code",
   "execution_count": null,
   "metadata": {},
   "outputs": [],
   "source": [
    "fig = px.bar(df, \n",
    "             x='continent', \n",
    "             y=['2023 population', 'area (km²)'], \n",
    "             title=\"Comparação de População e Área por País (2023)\",\n",
    "             labels={'value': 'Valor', 'variable': 'Categoria'})\n",
    "fig.show()\n"
   ]
  },
  {
   "cell_type": "markdown",
   "metadata": {},
   "source": [
    "### Distribuição da População por Continente (2023)"
   ]
  },
  {
   "cell_type": "code",
   "execution_count": null,
   "metadata": {},
   "outputs": [],
   "source": [
    "fig = px.pie(df, \n",
    "             names='continent', \n",
    "             values='2023 population', \n",
    "             title=\"Distribuição da População por Continente (2023)\")\n",
    "fig.show()\n"
   ]
  },
  {
   "cell_type": "markdown",
   "metadata": {},
   "source": [
    "### Mapa de Árvore: Hierarquia por Continente e País"
   ]
  },
  {
   "cell_type": "code",
   "execution_count": null,
   "metadata": {},
   "outputs": [],
   "source": [
    "fig = px.treemap(df, \n",
    "                 path=['continent', 'country'], \n",
    "                 values='2023 population', \n",
    "                 title=\"Mapa de Árvore: Hierarquia por Continente e País\")\n",
    "fig.show()\n"
   ]
  }
 ],
 "metadata": {
  "kernelspec": {
   "display_name": "Python 3",
   "language": "python",
   "name": "python3"
  },
  "language_info": {
   "codemirror_mode": {
    "name": "ipython",
    "version": 3
   },
   "file_extension": ".py",
   "mimetype": "text/x-python",
   "name": "python",
   "nbconvert_exporter": "python",
   "pygments_lexer": "ipython3",
   "version": "3.12.1"
  }
 },
 "nbformat": 4,
 "nbformat_minor": 2
}
