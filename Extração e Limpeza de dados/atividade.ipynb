{
 "cells": [
  {
   "cell_type": "markdown",
   "metadata": {},
   "source": [
    "## Extração e Limpeza de Dados"
   ]
  },
  {
   "cell_type": "markdown",
   "metadata": {},
   "source": [
    "#### Base de dados: spotify"
   ]
  },
  {
   "cell_type": "code",
   "execution_count": null,
   "metadata": {},
   "outputs": [],
   "source": [
    "import pandas as pd #importando a biblioteca que usaremos para realizar as nossas mudanças\n",
    "import numpy as np"
   ]
  },
  {
   "cell_type": "markdown",
   "metadata": {},
   "source": [
    "### Observar e avaliar erros"
   ]
  },
  {
   "cell_type": "code",
   "execution_count": null,
   "metadata": {},
   "outputs": [],
   "source": [
    "\n",
    "df = pd.read_csv('../bases/spotify.csv') #Definindo que o arquivo ficará guardado no nome \"df\"\n",
    "df.sort_values('song_popularity', ascending=False, inplace=True) #Deixando musicas em ordem de popularidade\n",
    "df.head(15) #Com esta função apenas as primeiras linhas aparecerão, começando pelo 0\n"
   ]
  },
  {
   "cell_type": "markdown",
   "metadata": {},
   "source": [
    "Após observar o retorno, é possível ver diversos erros:\n",
    "\n",
    "1. música ‘I love it’ aparece várias vezes\n",
    "2. música classificada como ‘não_sei’\n",
    "3. colunas com unidades de medida como ‘mol’ ou ‘kg’\n"
   ]
  },
  {
   "cell_type": "markdown",
   "metadata": {},
   "source": [
    "### Checando as informações"
   ]
  },
  {
   "cell_type": "code",
   "execution_count": null,
   "metadata": {},
   "outputs": [],
   "source": [
    "df.head(15) # vizualizar o começo do dataframe\n"
   ]
  },
  {
   "cell_type": "code",
   "execution_count": null,
   "metadata": {},
   "outputs": [],
   "source": [
    "df.info() #obter informações do seu dataframe\n"
   ]
  },
  {
   "cell_type": "code",
   "execution_count": null,
   "metadata": {},
   "outputs": [],
   "source": [
    "df.describe() #para ver uma descrição mais detalhada"
   ]
  },
  {
   "cell_type": "markdown",
   "metadata": {},
   "source": [
    "### Corrigindo Inconsistências"
   ]
  },
  {
   "cell_type": "code",
   "execution_count": null,
   "metadata": {},
   "outputs": [],
   "source": [
    "#Removendo unidades de medidas inadequadas ‘mol/L’ E ‘kg’\n",
    "\n",
    "def remove_units(DataFrame, columns, what):\n",
    "    for col in columns:\n",
    "        DataFrame[col] = DataFrame[col].str.strip(what)\n",
    "\n",
    "remove_units(df,['acousticness','danceability'],'mol/L')\n",
    "remove_units(df,['song_duration_ms','acousticness'],'kg')\n",
    "\n",
    "#testando\n",
    "df.head(15)"
   ]
  },
  {
   "cell_type": "code",
   "execution_count": null,
   "metadata": {},
   "outputs": [],
   "source": [
    "#Trocando dados faltantes sem uma formatação (‘nao_sei’) e outros valores que não fazem sentido para nossa análise por um valor float\n",
    "\n",
    "df.replace(['nao_sei'], np.nan)\n",
    "df['song_popularity'] = df['song_popularity'].replace(['nao_sei'], np.nan)\n",
    "df['song_duration_ms'] = df['song_duration_ms'].replace(['0.8220000000000001'], np.nan)\n",
    "df['key'] = df['key'].replace([0.177], np.nan)\n",
    "df['audio_mode'] = df['audio_mode'].replace(['0.105'],np.nan)\n",
    "df['speechiness'] = df['speechiness'].replace(['0.nao_sei'], np.nan)\n",
    "df['time_signature'] = df['time_signature'].replace(['0.7', '2800000000'], np.nan)\n",
    "\n",
    "#testando\n",
    "df.head(15)"
   ]
  },
  {
   "cell_type": "code",
   "execution_count": null,
   "metadata": {},
   "outputs": [],
   "source": [
    "#Ajustando os tipos das nossas variáveis\n",
    "#grande parte das nossas informações numéricas estão sendo tratadas como strings, vamos então construir uma função para arrumar\n",
    "\n",
    "numerical_cols = ['song_duration_ms', 'acousticness', 'danceability',\n",
    "                  'energy', 'instrumentalness', 'liveness', 'loudness',\n",
    "                  'speechiness', 'tempo', 'audio_valence']\n",
    "\n",
    "categorical_cols = ['song_popularity', 'key', 'audio_mode', 'time_signature']\n",
    "\n",
    "def convert_types(dataframe, columns, new_type):\n",
    "    for col in columns:\n",
    "        if col in dataframe.columns:  # Verifica se a coluna está no DataFrame\n",
    "            dataframe[col] = pd.to_numeric(dataframe[col], errors='coerce')  # Substitui não numéricos por NaN\n",
    "            dataframe[col] = dataframe[col].astype(new_type)\n",
    "\n",
    "# Chamando a função para corrigir os tipos\n",
    "convert_types(df, numerical_cols, 'float')\n",
    "convert_types(df, categorical_cols, 'category')\n",
    "\n",
    "# Verificando as mudanças nos tipos das colunas\n",
    "print(df.info())"
   ]
  },
  {
   "cell_type": "markdown",
   "metadata": {},
   "source": [
    "#### Retirando colunas e linhas\n",
    "\n"
   ]
  },
  {
   "cell_type": "code",
   "execution_count": null,
   "metadata": {},
   "outputs": [],
   "source": [
    "df = df.drop(\"Unnamed: 0\", axis=1) #Retirando coluna\n",
    "print(df.info())"
   ]
  },
  {
   "cell_type": "code",
   "execution_count": null,
   "metadata": {},
   "outputs": [],
   "source": [
    "# deletando as linhas vazias\n",
    "df = df.dropna(how=\"any\", axis=0)\n",
    "print(df.info())\n"
   ]
  },
  {
   "cell_type": "markdown",
   "metadata": {},
   "source": [
    "### Corrigindo Duplicatas"
   ]
  },
  {
   "cell_type": "code",
   "execution_count": null,
   "metadata": {},
   "outputs": [],
   "source": [
    "df.head(15)"
   ]
  },
  {
   "cell_type": "code",
   "execution_count": null,
   "metadata": {},
   "outputs": [],
   "source": [
    "df['song_name'].unique() #verificando valores uniques da coluna 'song_name'"
   ]
  },
  {
   "cell_type": "code",
   "execution_count": null,
   "metadata": {},
   "outputs": [],
   "source": [
    "#Verificando duplicados\n",
    "duplicados = df[df.duplicated(keep='first')]\n",
    "#duplicados_coluna = df[df.duplicated(subset='song_name')] #duplicatas por coluna\n",
    "print(duplicados)"
   ]
  },
  {
   "cell_type": "code",
   "execution_count": null,
   "metadata": {},
   "outputs": [],
   "source": [
    "df.drop_duplicates(keep='first', inplace=True) "
   ]
  },
  {
   "cell_type": "code",
   "execution_count": null,
   "metadata": {},
   "outputs": [],
   "source": [
    "df.shape #conferindo retorno de linhas após remoção das duplicatas"
   ]
  }
 ],
 "metadata": {
  "kernelspec": {
   "display_name": "Python 3",
   "language": "python",
   "name": "python3"
  },
  "language_info": {
   "codemirror_mode": {
    "name": "ipython",
    "version": 3
   },
   "file_extension": ".py",
   "mimetype": "text/x-python",
   "name": "python",
   "nbconvert_exporter": "python",
   "pygments_lexer": "ipython3",
   "version": "0.0.0"
  }
 },
 "nbformat": 4,
 "nbformat_minor": 2
}
